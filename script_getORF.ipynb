{
 "metadata": {
  "language_info": {
   "codemirror_mode": {
    "name": "ipython",
    "version": 3
   },
   "file_extension": ".py",
   "mimetype": "text/x-python",
   "name": "python",
   "nbconvert_exporter": "python",
   "pygments_lexer": "ipython3",
   "version": "3.8.5-final"
  },
  "orig_nbformat": 2,
  "kernelspec": {
   "name": "python3",
   "display_name": "Python 3",
   "language": "python"
  }
 },
 "nbformat": 4,
 "nbformat_minor": 2,
 "cells": [
  {
   "source": [
    "### Testando importanção de arquivos do módulo sys"
   ],
   "cell_type": "markdown",
   "metadata": {}
  },
  {
   "cell_type": "code",
   "execution_count": 197,
   "metadata": {},
   "outputs": [
    {
     "output_type": "stream",
     "name": "stdout",
     "text": [
      "['>id_sequencia01\\n', 'actgatgcccaagctgaaatagcgtagaggggttttcatcatttgaggacgatgtataaccggg\\n']\n"
     ]
    }
   ],
   "source": [
    "import sys\n",
    "import pandas as pd\n",
    "\n",
    "caminho = \"sequencia.fasta\"\n",
    "\n",
    "arquivo = open(caminho, 'r')\n",
    "\n",
    "sequencia = arquivo.readlines()\n",
    "\n",
    "print(sequencia)"
   ]
  },
  {
   "source": [
    "### Fazendo o exercício"
   ],
   "cell_type": "markdown",
   "metadata": {}
  },
  {
   "cell_type": "code",
   "execution_count": 127,
   "metadata": {},
   "outputs": [
    {
     "output_type": "stream",
     "name": "stdout",
     "text": [
      "actgatgcccaagctgaaatagcgtagaggggttttcatcatttgaggacgatgtataaccggg\ncccggttatacatcgtcctcaaatgatgaaaacccctctacgctatttcagcttgggcatcagt\n"
     ]
    }
   ],
   "source": [
    "#Lendo o arquivo e gerando a sequência complementar pelo\n",
    "\n",
    "from Bio.Seq import Seq\n",
    "from Bio.SeqRecord import SeqRecord\n",
    "from Bio import SeqIO\n",
    "\n",
    "with open(\"sequencia.fasta\", \"r\") as seq_file:\n",
    "        for record in SeqIO.parse(seq_file, \"fasta\"):\n",
    "            seq_dna = record.seq\n",
    "            complementar = seq_dna.reverse_complement()\n",
    "\n",
    "print(seq_dna)\n",
    "print(complementar)"
   ]
  },
  {
   "cell_type": "code",
   "execution_count": 198,
   "metadata": {},
   "outputs": [
    {
     "output_type": "stream",
     "name": "stdout",
     "text": [
      "0\n1\n[18, Seq('atgcccaagctgaaatag'), 4, 22]\n[42, Seq('atgcccaagctgaaatagcgtagaggggttttcatcatttga'), 4, 46]\n2\n0\n1\n2\n[[18, Seq('atgcccaagctgaaatag'), 4, 22], [42, Seq('atgcccaagctgaaatagcgtagaggggttttcatcatttga'), 4, 46]]\n"
     ]
    }
   ],
   "source": [
    "#Função para gerar os ORF's\n",
    "def getORFs(dna, frame):\n",
    "    #frame_count = 0\n",
    "    for i in range(frame, len(dna), 3):\n",
    "        codon1 = dna[i:i+3]\n",
    "        if codon1 == 'atg':\n",
    "            start = i\n",
    "            for j in range(start, len(dna), 3):\n",
    "                codon2 = dna[j:j+3]\n",
    "                if codon2 in ['taa', 'tag', 'tga']:\n",
    "                    end = j\n",
    "                    orflength = end-start+3\n",
    "                    # frame += 1\n",
    "                    # print(frame) \n",
    "                    #100 - 0+3 = 97\n",
    "                    orf = dna[start:end+3]\n",
    "                    yield [orflength, orf, start, end+3] #frame_count]\n",
    "\n",
    "#1 - Criando a lista com o ORF's\n",
    "sequencias = [seq_dna, complementar]\n",
    "orfs = []\n",
    "frames = [0,1,2]\n",
    "\n",
    "for a in sequencias:\n",
    "    for i in frames:\n",
    "        print(i)\n",
    "        for j in getORFs(a, i):\n",
    "            print(j)\n",
    "            orfs.append(j)\n",
    "print(orfs)"
   ]
  },
  {
   "cell_type": "code",
   "execution_count": 108,
   "metadata": {},
   "outputs": [
    {
     "output_type": "stream",
     "name": "stdout",
     "text": [
      "[(1, 42)]\n"
     ]
    }
   ],
   "source": [
    "#2 - Obtendo o ORF de maior comprimento\n",
    "\n",
    "maxLengthORF = [] \n",
    "from operator import itemgetter\n",
    "\n",
    "def getMaxLengthORF(orfList, i):\n",
    "    return max(enumerate(map(itemgetter(i), orfList)), key=itemgetter(1))\n",
    "\n",
    "maxLengthORF.append(getMaxLengthORF(orfs, 0))\n",
    "print(maxLengthORF)"
   ]
  },
  {
   "cell_type": "code",
   "execution_count": 109,
   "metadata": {},
   "outputs": [
    {
     "output_type": "stream",
     "name": "stdout",
     "text": [
      "MPKLKRRGVFII\n"
     ]
    }
   ],
   "source": [
    "#3 - Traduzindo a sequência do pepitídio do ORF's com o maior comprimento\n",
    "\n",
    "maxLengthORFIndex = maxLengthORF[0][0]\n",
    "novo_maxLengthORFIndex = maxLengthORF[0][1]\n",
    "orfToTranslate = orfs[1][maxLengthORFIndex]\n",
    "print(orfToTranslate.translate(stop_symbol=\"\"))"
   ]
  },
  {
   "cell_type": "code",
   "execution_count": 204,
   "metadata": {},
   "outputs": [],
   "source": [
    "#4,5 e 6 - Salvar arquivo \n",
    "\n",
    "#Gerando o nome do arquivo para salvar no seu id\n",
    "s = 'id_sequencia01_%s_%i_%i' % (1, orfs[1][2], orfs[1][3])\n",
    "\n",
    "#Salvando o arquivo ORF.fna\n",
    "ORF_fna = pd.DataFrame({'%s' %(s): [orfs[1][1]]})\n",
    "ORF_fna.to_csv('ORF.fna')\n",
    "\n",
    "#Salvando o arquivo ORF.faa\n",
    "ORF_faa = pd.DataFrame({'%s' %(s): [orfs[1][1].translate(stop_symbol=\"\")]})\n",
    "ORF_faa.to_csv('ORF.faa')"
   ]
  },
  {
   "cell_type": "code",
   "execution_count": null,
   "metadata": {},
   "outputs": [],
   "source": [
    "#7 - Carregar arquivos no repositório"
   ]
  },
  {
   "cell_type": "code",
   "execution_count": 226,
   "metadata": {},
   "outputs": [],
   "source": [
    "#8 - verificar integridade dos arquivos\n",
    "\n",
    "import os\n",
    "\n",
    "def index(directory):\n",
    "    stack = [directory]\n",
    "    files = []\n",
    "    while stack:\n",
    "        directory = stack.pop()\n",
    "        for file in os.listdir(directory):\n",
    "            fullname = os.path.join(directory, file)\n",
    "            if fullname.endswith('mp3'):\n",
    "                files.append(fullname)\n",
    "            if os.path.isdir(fullname) and not os.path.islink(fullname):\n",
    "                stack.append(fullname)\n",
    "    return files\n",
    "\n",
    "def check(directory):\n",
    "    files = index(directory)\n",
    "    hvalues = []\n",
    "    for x in files:\n",
    "        cmd = 'md5sum' + ' ' + x\n",
    "        fp = os.popen(cmd)\n",
    "        res = fp.readline()\n",
    "        hvalues.append(res)\n",
    "        stat = fp.close() \n",
    "    return hvalues\n",
    "\n",
    "def check(directory):\n",
    "    files = index(directory)\n",
    "    hvalues = []\n",
    "    for f in files:\n",
    "        cmd = ['md5sum', f]\n",
    "        proc = subprocess.Popen(cmd, stdout=subprocess.PIPE)\n",
    "        hvalues.append(proc.stdout.readline())\n",
    "        proc.stdout.close()\n",
    "        stat = os.waitpid(proc.pid, 0)\n",
    "    return hvalues"
   ]
  },
  {
   "cell_type": "code",
   "execution_count": 227,
   "metadata": {},
   "outputs": [],
   "source": [
    "index('ORF.fna')\n",
    "index('ORF.faa')\n",
    "check('ORF.fna')\n",
    "check('ORF.faa')"
   ]
  },
  {
   "cell_type": "code",
   "execution_count": null,
   "metadata": {},
   "outputs": [],
   "source": []
  }
 ]
}